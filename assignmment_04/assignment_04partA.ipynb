{
  "nbformat": 4,
  "nbformat_minor": 0,
  "metadata": {
    "colab": {
      "name": "assignment_04partA.ipynb",
      "provenance": [],
      "collapsed_sections": [],
      "authorship_tag": "ABX9TyPqY7fUZNkzaGnn+V62qRnb",
      "include_colab_link": true
    },
    "kernelspec": {
      "name": "python3",
      "display_name": "Python 3"
    },
    "language_info": {
      "name": "python"
    }
  },
  "cells": [
    {
      "cell_type": "markdown",
      "metadata": {
        "id": "view-in-github",
        "colab_type": "text"
      },
      "source": [
        "<a href=\"https://colab.research.google.com/github/Sreecr7/data690_Sree/blob/main/assignmment_04/assignment_04partA.ipynb\" target=\"_parent\"><img src=\"https://colab.research.google.com/assets/colab-badge.svg\" alt=\"Open In Colab\"/></a>"
      ]
    },
    {
      "cell_type": "markdown",
      "metadata": {
        "id": "jHWBoPG_RKC5"
      },
      "source": [
        "# 1.Write code to open the text file census_costs.txt and read all lines into a list named \"line_list\". Print line_list."
      ]
    },
    {
      "cell_type": "code",
      "metadata": {
        "colab": {
          "base_uri": "https://localhost:8080/"
        },
        "id": "WJmVjCk6fAgo",
        "outputId": "41bc1f99-91bc-485c-ebe1-9681f9af061f"
      },
      "source": [
        "with open(\"census_costs.txt\",\"r\") as f:\n",
        "    lines_list = f.readlines()\n",
        "print(lines_list)"
      ],
      "execution_count": 196,
      "outputs": [
        {
          "output_type": "stream",
          "name": "stdout",
          "text": [
            "['Source: https://www.genealogybranches.com/censuscosts.html\\n', 'Census Year\\tTotal Population\\tCensus Cost\\tAverage Cost Per Person\\n', '1790\\t3,929,214\\t$44,377\\t1.13 cents\\n', '1800\\t5,308,483\\t$66,109\\t1.24 cents\\n', '1810\\t7,239,881\\t$178,445\\t2.46 cents\\n', '1820\\t9,633,822\\t$208,526\\t2.16 cents\\n', '1830\\t12,866,020\\t$378,545\\t2.94 cents\\n', '1840\\t17,069,458\\t$833,371\\t4.88 cents\\n', '1850\\t23,191,876\\t$1,423,351\\t6.14 cents\\n', '1860\\t31,443,321\\t$1,969,377\\t6.26 cents\\n', '1870\\t38,558,371\\t$3,421,198\\t8.87 cents\\n', '1880\\t50,155,783\\t$5,790,678\\t11.54 cents\\n', '1890\\t62,979,766\\t$11,547,127\\t18.33 cents\\n', '1900\\t76,303,387\\t$11,854,000\\t15.54 cents\\n', '1910\\t91,972,266\\t$15,968,000\\t17.07 cents\\n', '1920\\t105,710,620\\t$25,117,000\\t23.76 cents\\n', '1930\\t122,775,046\\t$40,156,000\\t32.71 cents\\n', '1940\\t131,669,275\\t$67,527,000\\t51.29 cents\\n', '1950\\t151,325,798\\t$91,462,000\\t60.44 cents\\n', '1960\\t179,323,175\\t$127,934,000\\t71.34 cents\\n', '1970\\t203,302,031\\t$247,653,000\\t$1.22\\n', '1980\\t226,542,199\\t$1,078,488,000\\t$4.76\\n', '1990\\t248,718,301\\t$2,492,830,000\\t$10.02\\n', '2000\\t281,421,906\\t$4.5 Billion\\t$15.99\\n', '2010*\\t308,745,538\\t$13 Billion\\t$42.11']\n"
          ]
        }
      ]
    },
    {
      "cell_type": "markdown",
      "metadata": {
        "id": "tLZEwhToRnVq"
      },
      "source": [
        "# 2.Extract the first two lines and put them in a different list named \"top2_list\". You will need to use them later. Print the top2_list."
      ]
    },
    {
      "cell_type": "code",
      "metadata": {
        "colab": {
          "base_uri": "https://localhost:8080/"
        },
        "id": "37UNNFdVhejR",
        "outputId": "71507039-eecc-422f-f0f5-b9e704a1357a"
      },
      "source": [
        "with open(\"/content/census_costs.txt\",\"r\") as file:\n",
        "  lines=file.readlines()\n",
        "  top2_list=[]\n",
        "  top2_row=0\n",
        "  for l in lines:\n",
        "    if top2_row<2:\n",
        "      i=l.split('\\n')\n",
        "      top2_list.append(i[0])\n",
        "    top2_row=top2_row+1\n",
        "print(top2_list)"
      ],
      "execution_count": 197,
      "outputs": [
        {
          "output_type": "stream",
          "name": "stdout",
          "text": [
            "['Source: https://www.genealogybranches.com/censuscosts.html', 'Census Year\\tTotal Population\\tCensus Cost\\tAverage Cost Per Person']\n"
          ]
        }
      ]
    },
    {
      "cell_type": "markdown",
      "metadata": {
        "id": "R6ztYWrJRrDP"
      },
      "source": [
        "# 3.Put the rest of the lines (containing useful data elements) in a new list named \"data_list\". Print data_list.\n"
      ]
    },
    {
      "cell_type": "code",
      "metadata": {
        "colab": {
          "base_uri": "https://localhost:8080/"
        },
        "id": "BuEXX_YlkNrz",
        "outputId": "bc3707cd-8d67-4d3e-8459-a3c336232d33"
      },
      "source": [
        "with open(\"/content/census_costs.txt\",\"r\") as file:\n",
        "  lines=file.readlines()\n",
        "  data_list=[]\n",
        "  count=0\n",
        "  for l in lines:\n",
        "    if count>=2:\n",
        "      data_list.append(l.split('\\t'))\n",
        "    count=count+1\n",
        "print(data_list) "
      ],
      "execution_count": 198,
      "outputs": [
        {
          "output_type": "stream",
          "name": "stdout",
          "text": [
            "[['1790', '3,929,214', '$44,377', '1.13 cents\\n'], ['1800', '5,308,483', '$66,109', '1.24 cents\\n'], ['1810', '7,239,881', '$178,445', '2.46 cents\\n'], ['1820', '9,633,822', '$208,526', '2.16 cents\\n'], ['1830', '12,866,020', '$378,545', '2.94 cents\\n'], ['1840', '17,069,458', '$833,371', '4.88 cents\\n'], ['1850', '23,191,876', '$1,423,351', '6.14 cents\\n'], ['1860', '31,443,321', '$1,969,377', '6.26 cents\\n'], ['1870', '38,558,371', '$3,421,198', '8.87 cents\\n'], ['1880', '50,155,783', '$5,790,678', '11.54 cents\\n'], ['1890', '62,979,766', '$11,547,127', '18.33 cents\\n'], ['1900', '76,303,387', '$11,854,000', '15.54 cents\\n'], ['1910', '91,972,266', '$15,968,000', '17.07 cents\\n'], ['1920', '105,710,620', '$25,117,000', '23.76 cents\\n'], ['1930', '122,775,046', '$40,156,000', '32.71 cents\\n'], ['1940', '131,669,275', '$67,527,000', '51.29 cents\\n'], ['1950', '151,325,798', '$91,462,000', '60.44 cents\\n'], ['1960', '179,323,175', '$127,934,000', '71.34 cents\\n'], ['1970', '203,302,031', '$247,653,000', '$1.22\\n'], ['1980', '226,542,199', '$1,078,488,000', '$4.76\\n'], ['1990', '248,718,301', '$2,492,830,000', '$10.02\\n'], ['2000', '281,421,906', '$4.5 Billion', '$15.99\\n'], ['2010*', '308,745,538', '$13 Billion', '$42.11']]\n"
          ]
        }
      ]
    },
    {
      "cell_type": "markdown",
      "metadata": {
        "id": "3xxFLBQuR551"
      },
      "source": [
        "# 4.Extract the column \"Census Year\" from data_list and assign them to a list named year_list. Remove the \"\" from the last element \"2010\". Print the cleansed year_list."
      ]
    },
    {
      "cell_type": "code",
      "metadata": {
        "colab": {
          "base_uri": "https://localhost:8080/"
        },
        "id": "_YnTEE31oAsw",
        "outputId": "0be1424e-0a80-447c-cac8-a04f5b1f2fdf"
      },
      "source": [
        "year_list=[]\n",
        "for values in data_list:\n",
        "  i[0] = i[0].replace('*', '')\n",
        "  year_list.append(values[0])\n",
        "print(year_list)"
      ],
      "execution_count": 199,
      "outputs": [
        {
          "output_type": "stream",
          "name": "stdout",
          "text": [
            "['1790', '1800', '1810', '1820', '1830', '1840', '1850', '1860', '1870', '1880', '1890', '1900', '1910', '1920', '1930', '1940', '1950', '1960', '1970', '1980', '1990', '2000', '2010*']\n"
          ]
        }
      ]
    },
    {
      "cell_type": "markdown",
      "metadata": {
        "id": "1M-jLlo8SBPh"
      },
      "source": [
        "# 5.Extract the \"Total Population\" column from the data_list and assign them to a list named \"pop_list\". Remove the \",\" from the numbers since Python doesn't recognize them. Print the cleansed \"pop_list\"."
      ]
    },
    {
      "cell_type": "code",
      "metadata": {
        "colab": {
          "base_uri": "https://localhost:8080/"
        },
        "id": "yFv6uh2Noz2H",
        "outputId": "cfdc36a1-4552-45e2-de44-f54452a2a14e"
      },
      "source": [
        "pop_list=[]\n",
        "for i in data_list:\n",
        "    i[1] = i[1].replace(',', '')\n",
        "    pop_list.append(i[1])\n",
        "\n",
        "print(pop_list)"
      ],
      "execution_count": 200,
      "outputs": [
        {
          "output_type": "stream",
          "name": "stdout",
          "text": [
            "['3929214', '5308483', '7239881', '9633822', '12866020', '17069458', '23191876', '31443321', '38558371', '50155783', '62979766', '76303387', '91972266', '105710620', '122775046', '131669275', '151325798', '179323175', '203302031', '226542199', '248718301', '281421906', '308745538']\n"
          ]
        }
      ]
    },
    {
      "cell_type": "markdown",
      "metadata": {
        "id": "LtEHxmKySFq3"
      },
      "source": [
        "# 6. Extract the \"Census Cost\" column from the data_list and assign them to a list named \"cost_list\". Remove the \",\", and \"$\", and \"Billion\". Make sure to add the \"0\"s to the numbers from which you removed \"Billion\". Print the cleansed cost_list."
      ]
    },
    {
      "cell_type": "code",
      "metadata": {
        "colab": {
          "base_uri": "https://localhost:8080/"
        },
        "id": "Oq40-vPOxoNf",
        "outputId": "f3afd56d-635d-4099-c290-ea02b6a3ccc5"
      },
      "source": [
        "cost_list=[]\n",
        "for i in data_list:\n",
        "    i[2]=i[2].replace(\",\",\"\").replace(\"$\",\"\").replace(\" Billion\",\"000000000\")\n",
        "    cost_list.append(i[2])\n",
        "    \n",
        "print(cost_list)"
      ],
      "execution_count": 201,
      "outputs": [
        {
          "output_type": "stream",
          "name": "stdout",
          "text": [
            "['44377', '66109', '178445', '208526', '378545', '833371', '1423351', '1969377', '3421198', '5790678', '11547127', '11854000', '15968000', '25117000', '40156000', '67527000', '91462000', '127934000', '247653000', '1078488000', '2492830000', '4.5000000000', '13000000000']\n"
          ]
        }
      ]
    },
    {
      "cell_type": "markdown",
      "metadata": {
        "id": "In40m8k3SL43"
      },
      "source": [
        "# 7.Extract the \"Average Cost per Person\" column from the data_list and assign them to a list named \"avg_list\". Remove the \"cents\", and \"$\". Make sure to divide the numbers in cents by 100 so that all numbers are measured in dollar. Print the cleansed avg_list."
      ]
    },
    {
      "cell_type": "code",
      "metadata": {
        "id": "oJoLmjj2yD-Y",
        "colab": {
          "base_uri": "https://localhost:8080/"
        },
        "outputId": "f04126fa-307b-4c95-b3c3-075576c599fe"
      },
      "source": [
        "avg_list=[]\n",
        "for i in data_list:\n",
        "    i[3]=i[3].replace(\"cents\",\"\")\n",
        "    i[3]=i[3].replace(\"$\",\"\")\n",
        "    i[3]=i[3].replace(\"\\n\",\"\")\n",
        "    i[3]=i[3].replace(\" \",\"\")\n",
        "    avg_list.append(str(float(i[3])/100))\n",
        "print(avg_list)"
      ],
      "execution_count": 202,
      "outputs": [
        {
          "output_type": "stream",
          "name": "stdout",
          "text": [
            "['0.0113', '0.0124', '0.0246', '0.0216', '0.0294', '0.048799999999999996', '0.061399999999999996', '0.0626', '0.08869999999999999', '0.11539999999999999', '0.1833', '0.15539999999999998', '0.1707', '0.2376', '0.3271', '0.5129', '0.6043999999999999', '0.7134', '0.012199999999999999', '0.047599999999999996', '0.1002', '0.15990000000000001', '0.4211']\n"
          ]
        }
      ]
    },
    {
      "cell_type": "markdown",
      "metadata": {
        "id": "2NPoX_FZSSZJ"
      },
      "source": [
        "# 8.Coalesce the cleansed data and save them to a text file named \"census_cost.csv\". The new file should look similar to the original source file except that it is in comma-delimited format and the numbers have been cleansed. The top two lines from the original file should be retained in the new file."
      ]
    },
    {
      "cell_type": "code",
      "metadata": {
        "colab": {
          "base_uri": "https://localhost:8080/"
        },
        "id": "E7DSf5sOy12b",
        "outputId": "0cf42e33-0008-4dd2-d597-39a7adebbb03"
      },
      "source": [
        "output_list = top2_list\n",
        "\n",
        "for j in range(0,len(data_list)):\n",
        "    total_list = year_list[j] + \" \" + pop_list[j] + \" \"  + cost_list[j] + \"  \" + avg_list[j]\n",
        "    output_list.append(total_list)\n",
        "print(output_list)"
      ],
      "execution_count": 203,
      "outputs": [
        {
          "output_type": "stream",
          "name": "stdout",
          "text": [
            "['Source: https://www.genealogybranches.com/censuscosts.html', 'Census Year\\tTotal Population\\tCensus Cost\\tAverage Cost Per Person', '1790 3929214 44377  0.0113', '1800 5308483 66109  0.0124', '1810 7239881 178445  0.0246', '1820 9633822 208526  0.0216', '1830 12866020 378545  0.0294', '1840 17069458 833371  0.048799999999999996', '1850 23191876 1423351  0.061399999999999996', '1860 31443321 1969377  0.0626', '1870 38558371 3421198  0.08869999999999999', '1880 50155783 5790678  0.11539999999999999', '1890 62979766 11547127  0.1833', '1900 76303387 11854000  0.15539999999999998', '1910 91972266 15968000  0.1707', '1920 105710620 25117000  0.2376', '1930 122775046 40156000  0.3271', '1940 131669275 67527000  0.5129', '1950 151325798 91462000  0.6043999999999999', '1960 179323175 127934000  0.7134', '1970 203302031 247653000  0.012199999999999999', '1980 226542199 1078488000  0.047599999999999996', '1990 248718301 2492830000  0.1002', '2000 281421906 4.5000000000  0.15990000000000001', '2010* 308745538 13000000000  0.4211']\n"
          ]
        }
      ]
    },
    {
      "cell_type": "markdown",
      "metadata": {
        "id": "dRCdGV2vSaOM"
      },
      "source": [
        "# 9. Write code to open the newly-created file \"census_cost.csv\", read all lines and display them. How does it look?\n"
      ]
    },
    {
      "cell_type": "code",
      "metadata": {
        "id": "vKF1wB4Y6IBY"
      },
      "source": [
        "import csv\n",
        "with open(\"census_cost.csv\",\"w\") as file:\n",
        "    for k in output:\n",
        "        file.write(k)"
      ],
      "execution_count": 204,
      "outputs": []
    },
    {
      "cell_type": "code",
      "metadata": {
        "colab": {
          "base_uri": "https://localhost:8080/"
        },
        "id": "dQWRdf0s7gef",
        "outputId": "6849a76a-140b-4bf3-b120-0029a2410cfc"
      },
      "source": [
        "\n",
        "with open(\"/content/census_cost.csv\", \"r\") as file:\n",
        "    lines = file.readlines()\n",
        "print(lines)"
      ],
      "execution_count": 205,
      "outputs": [
        {
          "output_type": "stream",
          "name": "stdout",
          "text": [
            "['Source: https://www.genealogybranches.com/censuscosts.htmlCensus Year\\tTotal Population\\tCensus Cost\\tAverage Cost Per Person1790 3929214 44377  0.01131800 5308483 66109  0.01241810 7239881 178445  0.02461820 9633822 208526  0.02161830 12866020 378545  0.02941840 17069458 833371  0.0487999999999999961850 23191876 1423351  0.0613999999999999961860 31443321 1969377  0.06261870 38558371 3421198  0.088699999999999991880 50155783 5790678  0.115399999999999991890 62979766 11547127  0.18331900 76303387 11854000  0.155399999999999981910 91972266 15968000  0.17071920 105710620 25117000  0.23761930 122775046 40156000  0.32711940 131669275 67527000  0.51291950 151325798 91462000  0.60439999999999991960 179323175 127934000  0.71341970 203302031 247653000  0.0121999999999999991980 226542199 1078488000  0.0475999999999999961990 248718301 2492830000  0.10022000 281421906 4.5000000000  0.159900000000000012010 308745538 13000000000  0.42111790 3929214 44377  0.01131800 5308483 66109  0.01241810 7239881 178445  0.02461820 9633822 208526  0.02161830 12866020 378545  0.02941840 17069458 833371  0.0487999999999999961850 23191876 1423351  0.0613999999999999961860 31443321 1969377  0.06261870 38558371 3421198  0.088699999999999991880 50155783 5790678  0.115399999999999991890 62979766 11547127  0.18331900 76303387 11854000  0.155399999999999981910 91972266 15968000  0.17071920 105710620 25117000  0.23761930 122775046 40156000  0.32711940 131669275 67527000  0.51291950 151325798 91462000  0.60439999999999991960 179323175 127934000  0.71341970 203302031 247653000  0.0121999999999999991980 226542199 1078488000  0.0475999999999999961990 248718301 2492830000  0.10022000 281421906 4.5000000000  0.159900000000000012010 308745538 13000000000  0.42111790 3929214 44377  0.01131800 5308483 66109  0.01241810 7239881 178445  0.02461820 9633822 208526  0.02161830 12866020 378545  0.02941840 17069458 833371  0.0487999999999999961850 23191876 1423351  0.0613999999999999961860 31443321 1969377  0.06261870 38558371 3421198  0.088699999999999991880 50155783 5790678  0.115399999999999991890 62979766 11547127  0.18331900 76303387 11854000  0.155399999999999981910 91972266 15968000  0.17071920 105710620 25117000  0.23761930 122775046 40156000  0.32711940 131669275 67527000  0.51291950 151325798 91462000  0.60439999999999991960 179323175 127934000  0.71341970 203302031 247653000  0.0121999999999999991980 226542199 1078488000  0.0475999999999999961990 248718301 2492830000  0.10022000 281421906 4.5000000000  0.159900000000000012010 308745538 13000000000  0.4211']\n"
          ]
        }
      ]
    }
  ]
}