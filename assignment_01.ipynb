{
  "nbformat": 4,
  "nbformat_minor": 0,
  "metadata": {
    "colab": {
      "name": "assignment_01.ipynb",
      "provenance": [],
      "authorship_tag": "ABX9TyMGYbsrS7L6Dk/8aHjh4yOh",
      "include_colab_link": true
    },
    "kernelspec": {
      "name": "python3",
      "display_name": "Python 3"
    },
    "language_info": {
      "name": "python"
    }
  },
  "cells": [
    {
      "cell_type": "markdown",
      "metadata": {
        "id": "view-in-github",
        "colab_type": "text"
      },
      "source": [
        "<a href=\"https://colab.research.google.com/github/Sreecr7/data690_Sree/blob/main/assignment_01.ipynb\" target=\"_parent\"><img src=\"https://colab.research.google.com/assets/colab-badge.svg\" alt=\"Open In Colab\"/></a>"
      ]
    },
    {
      "cell_type": "markdown",
      "metadata": {
        "id": "y--UzxalAu8D"
      },
      "source": [
        "# Assignment 1 for DATA 690 FALL 2021\n",
        "- Instructor Dr.Jay Wang\n",
        "-  Student Sree Purani Gunasekaran \n",
        "- 09/02/2021\n",
        "\n",
        "This is for demostrating the use of jupyter notebook \n"
      ]
    },
    {
      "cell_type": "markdown",
      "metadata": {
        "id": "qMkQp35OEmL3"
      },
      "source": [
        "## 1.simplest program"
      ]
    },
    {
      "cell_type": "code",
      "metadata": {
        "colab": {
          "base_uri": "https://localhost:8080/"
        },
        "id": "p0ZMBW9q_7L0",
        "outputId": "8b920c28-a79f-4751-c7de-067273b27382"
      },
      "source": [
        "print(\"Hello World!\") #This is simplest python program \n"
      ],
      "execution_count": 5,
      "outputs": [
        {
          "output_type": "stream",
          "name": "stdout",
          "text": [
            "Hello World!\n"
          ]
        }
      ]
    },
    {
      "cell_type": "markdown",
      "metadata": {
        "id": "Ks4MbZ-8EBQr"
      },
      "source": [
        "## 2.perform divison "
      ]
    },
    {
      "cell_type": "code",
      "metadata": {
        "colab": {
          "base_uri": "https://localhost:8080/"
        },
        "id": "eBNJNGYOCgWf",
        "outputId": "9323760f-e8f9-4362-a2fd-b64c249c778e"
      },
      "source": [
        "y=100\n",
        "z=y/x\n",
        "print(z)"
      ],
      "execution_count": 4,
      "outputs": [
        {
          "output_type": "stream",
          "name": "stdout",
          "text": [
            "5.0\n"
          ]
        }
      ]
    },
    {
      "cell_type": "markdown",
      "metadata": {
        "id": "pAFFU7msDX-d"
      },
      "source": [
        "\n",
        "\n",
        "\n",
        "## 3.perform multiplication\n"
      ]
    },
    {
      "cell_type": "code",
      "metadata": {
        "colab": {
          "base_uri": "https://localhost:8080/"
        },
        "id": "DLIoJDe4DlNL",
        "outputId": "85db7afc-7a6e-4b9b-e209-6b498a07e01b"
      },
      "source": [
        "x = 10*2\n",
        "print(x)"
      ],
      "execution_count": 6,
      "outputs": [
        {
          "output_type": "stream",
          "name": "stdout",
          "text": [
            "20\n"
          ]
        }
      ]
    },
    {
      "cell_type": "markdown",
      "metadata": {
        "id": "XY_8TRwwHm8F"
      },
      "source": [
        "## 4.addition\n",
        "\n"
      ]
    },
    {
      "cell_type": "code",
      "metadata": {
        "colab": {
          "base_uri": "https://localhost:8080/"
        },
        "id": "2PXuRjpbHqrh",
        "outputId": "5abc7a18-0153-4821-a618-98b801d4911f"
      },
      "source": [
        "print(100+200)"
      ],
      "execution_count": 7,
      "outputs": [
        {
          "output_type": "stream",
          "name": "stdout",
          "text": [
            "300\n"
          ]
        }
      ]
    }
  ]
}