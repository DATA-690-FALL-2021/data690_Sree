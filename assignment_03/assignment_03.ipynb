{
  "nbformat": 4,
  "nbformat_minor": 0,
  "metadata": {
    "colab": {
      "name": "assignment_03.ipynb",
      "provenance": [],
      "collapsed_sections": [],
      "authorship_tag": "ABX9TyNBKfKkorZewyxR/4mYZcBU",
      "include_colab_link": true
    },
    "kernelspec": {
      "name": "python3",
      "display_name": "Python 3"
    },
    "language_info": {
      "name": "python"
    }
  },
  "cells": [
    {
      "cell_type": "markdown",
      "metadata": {
        "id": "view-in-github",
        "colab_type": "text"
      },
      "source": [
        "<a href=\"https://colab.research.google.com/github/Sreecr7/data690_Sree/blob/main/assignment_03/assignment_03.ipynb\" target=\"_parent\"><img src=\"https://colab.research.google.com/assets/colab-badge.svg\" alt=\"Open In Colab\"/></a>"
      ]
    },
    {
      "cell_type": "markdown",
      "metadata": {
        "id": "IkowVv5drJ8u"
      },
      "source": [
        "# 1. Print them in a 10 by 10 matrix neatly arranged like the following (one space between each number):\n"
      ]
    },
    {
      "cell_type": "code",
      "metadata": {
        "colab": {
          "base_uri": "https://localhost:8080/"
        },
        "id": "-BA2IpuwGaX2",
        "outputId": "db22d912-84b4-4ac3-d5a5-af5efd9b32f0"
      },
      "source": [
        "import random\n",
        "N = 10\n",
        "for row in range(N):\n",
        "    for col in range(N):\n",
        "        print(random.randint(0, 9),end=\" \")\n",
        "    print(\"\\n\", end = \"\")"
      ],
      "execution_count": 80,
      "outputs": [
        {
          "output_type": "stream",
          "name": "stdout",
          "text": [
            "6 3 4 2 5 0 9 0 4 3 \n",
            "0 9 9 0 4 1 3 5 0 1 \n",
            "4 3 9 7 0 8 5 9 5 5 \n",
            "8 5 8 6 8 8 8 9 7 0 \n",
            "5 5 2 3 1 4 9 6 1 4 \n",
            "5 1 8 3 0 3 6 8 5 1 \n",
            "3 3 4 1 8 4 5 1 7 5 \n",
            "7 2 5 9 3 2 8 0 4 0 \n",
            "0 1 5 1 8 1 0 2 6 3 \n",
            "4 2 8 2 6 4 8 8 4 7 \n"
          ]
        }
      ]
    },
    {
      "cell_type": "markdown",
      "metadata": {
        "id": "PnCQAv46sZnv"
      },
      "source": [
        "#2. If the random number is an odd number, print \"@\" instead."
      ]
    },
    {
      "cell_type": "code",
      "metadata": {
        "colab": {
          "base_uri": "https://localhost:8080/"
        },
        "id": "VNMOY2RjF8Tv",
        "outputId": "c6c6267a-c25e-44b0-a300-578d981e39f2"
      },
      "source": [
        "import random\n",
        "k=10\n",
        "for row in range(k):\n",
        "    for col in range(k):\n",
        "      N = random.randint(0, 9)\n",
        "      if N % 2 ==0:\n",
        "            print(N, end=' ')\n",
        "      else:\n",
        "           print('@', end=' ')\n",
        "           \n",
        "    print(\"\\n\",end = \"\")\n",
        "\n",
        "\n"
      ],
      "execution_count": 98,
      "outputs": [
        {
          "output_type": "stream",
          "name": "stdout",
          "text": [
            "@ 2 4 @ @ @ 6 @ 4 4 \n",
            "@ 6 0 @ @ 6 @ @ 0 2 \n",
            "@ @ 6 2 8 @ @ @ 0 @ \n",
            "0 @ @ @ 0 8 2 @ 0 @ \n",
            "@ 2 @ 8 @ @ @ 6 @ 6 \n",
            "4 4 @ @ 0 @ 0 @ @ 4 \n",
            "@ 2 2 6 6 @ 4 0 @ @ \n",
            "2 @ 2 @ 8 2 8 @ @ 8 \n",
            "@ @ @ 0 @ @ @ @ @ @ \n",
            "@ 4 2 @ 4 @ 8 2 @ 8 \n"
          ]
        }
      ]
    },
    {
      "cell_type": "markdown",
      "metadata": {
        "id": "lcDZsnd8t7NQ"
      },
      "source": [
        "# 3.Calculate and Print the total of each row like the following (use \"*\" to separate the total from the numbers):\n"
      ]
    },
    {
      "cell_type": "code",
      "metadata": {
        "colab": {
          "base_uri": "https://localhost:8080/"
        },
        "id": "t2-UTeM3Oj_T",
        "outputId": "0a826d56-7e05-4f4e-d166-82e764389d42"
      },
      "source": [
        "\n",
        "import random\n",
        "k=10\n",
        "for row in range(k):\n",
        "    total= 0\n",
        "    for col in range(k):\n",
        "      N = random.randint(0, 9)\n",
        "      total +=N\n",
        "      print(N, end=' ')\n",
        "    print(\"*\" +\" \" +str(total))\n",
        "    "
      ],
      "execution_count": 90,
      "outputs": [
        {
          "output_type": "stream",
          "name": "stdout",
          "text": [
            "9 1 0 1 2 4 5 5 1 1 * 29\n",
            "2 4 8 6 6 4 1 2 9 1 * 43\n",
            "1 7 9 4 8 5 7 8 9 8 * 66\n",
            "4 1 0 8 4 0 7 5 8 2 * 39\n",
            "0 9 1 0 0 1 5 2 8 1 * 27\n",
            "6 1 2 7 8 7 0 2 3 9 * 45\n",
            "8 5 7 4 6 4 4 4 9 2 * 53\n",
            "1 0 6 5 2 6 2 2 3 7 * 34\n",
            "5 4 8 9 4 1 0 6 0 4 * 41\n",
            "5 7 2 8 9 8 5 3 6 5 * 58\n"
          ]
        }
      ]
    },
    {
      "cell_type": "code",
      "metadata": {
        "id": "ZuN1dSNRfFLd"
      },
      "source": [
        ""
      ],
      "execution_count": 68,
      "outputs": []
    }
  ]
}