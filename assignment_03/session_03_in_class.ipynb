{
  "nbformat": 4,
  "nbformat_minor": 0,
  "metadata": {
    "colab": {
      "name": "session_03_in_class.ipynb",
      "provenance": [],
      "authorship_tag": "ABX9TyMPc5zZdtA7ChMZEiyWd84b",
      "include_colab_link": true
    },
    "kernelspec": {
      "name": "python3",
      "display_name": "Python 3"
    },
    "language_info": {
      "name": "python"
    }
  },
  "cells": [
    {
      "cell_type": "markdown",
      "metadata": {
        "id": "view-in-github",
        "colab_type": "text"
      },
      "source": [
        "<a href=\"https://colab.research.google.com/github/Sreecr7/data690_Sree/blob/main/assignment_03/session_03_in_class.ipynb\" target=\"_parent\"><img src=\"https://colab.research.google.com/assets/colab-badge.svg\" alt=\"Open In Colab\"/></a>"
      ]
    },
    {
      "cell_type": "markdown",
      "metadata": {
        "id": "RrYK33Mi8idM"
      },
      "source": [
        "# Session 3 inclass Practices \n",
        "- Prof Jay Wang\n",
        "- Sree Purani\n",
        "- September 16"
      ]
    },
    {
      "cell_type": "markdown",
      "metadata": {
        "id": "rZ-HjiS79GBM"
      },
      "source": [
        "## 1.List Comprehension"
      ]
    },
    {
      "cell_type": "code",
      "metadata": {
        "colab": {
          "base_uri": "https://localhost:8080/"
        },
        "id": "FzoPbQNqyi4M",
        "outputId": "e7c08e03-1dd3-44d5-9d13-cd7e50c72df9"
      },
      "source": [
        "#This is traditinal way using for loop\n",
        "x = [2,5,-7,10,12]\n",
        "\n",
        "y =[]\n",
        "\n",
        "for i in x:\n",
        "  new_number =i+10\n",
        "  y.append(new_number)\n",
        "print(y)"
      ],
      "execution_count": 1,
      "outputs": [
        {
          "output_type": "stream",
          "name": "stdout",
          "text": [
            "[12, 15, 3, 20, 22]\n"
          ]
        }
      ]
    },
    {
      "cell_type": "code",
      "metadata": {
        "colab": {
          "base_uri": "https://localhost:8080/"
        },
        "id": "PXHwA82x-nCu",
        "outputId": "2d7cb591-08db-47a4-bf95-00623484eea6"
      },
      "source": [
        "# a new way using List Comphrension\n",
        "y =[i+10 for i in x]\n",
        "\n",
        "print(y)\n",
        "\n"
      ],
      "execution_count": 2,
      "outputs": [
        {
          "output_type": "stream",
          "name": "stdout",
          "text": [
            "[12, 15, 3, 20, 22]\n"
          ]
        }
      ]
    },
    {
      "cell_type": "markdown",
      "metadata": {
        "id": "bRUD2naC_F_L"
      },
      "source": [
        "### 2. User-Defined Function"
      ]
    },
    {
      "cell_type": "code",
      "metadata": {
        "id": "jTNfjRYK_eHa"
      },
      "source": [
        "def addition(a,b):\n",
        "      return a+b"
      ],
      "execution_count": 6,
      "outputs": []
    },
    {
      "cell_type": "code",
      "metadata": {
        "colab": {
          "base_uri": "https://localhost:8080/"
        },
        "id": "ATPiMJX2_5p4",
        "outputId": "94ecda4b-103d-4529-98c0-39ba37c9a8d4"
      },
      "source": [
        "y = addition(5,10)\n",
        "print(y)"
      ],
      "execution_count": 9,
      "outputs": [
        {
          "output_type": "stream",
          "name": "stdout",
          "text": [
            "15\n"
          ]
        }
      ]
    },
    {
      "cell_type": "markdown",
      "metadata": {
        "id": "ZwHg73SPAgEO"
      },
      "source": [
        "## Division"
      ]
    },
    {
      "cell_type": "code",
      "metadata": {
        "id": "9KUU-PgqAIou"
      },
      "source": [
        "def addition(a,b):\n",
        "      return a/b"
      ],
      "execution_count": 10,
      "outputs": []
    },
    {
      "cell_type": "code",
      "metadata": {
        "colab": {
          "base_uri": "https://localhost:8080/"
        },
        "id": "QymfNgSkAMeL",
        "outputId": "cfb148e9-e24d-4bd2-c472-29ba85ba506c"
      },
      "source": [
        "y = addition(5,10)\n",
        "print(y)"
      ],
      "execution_count": 11,
      "outputs": [
        {
          "output_type": "stream",
          "name": "stdout",
          "text": [
            "0.5\n"
          ]
        }
      ]
    }
  ]
}