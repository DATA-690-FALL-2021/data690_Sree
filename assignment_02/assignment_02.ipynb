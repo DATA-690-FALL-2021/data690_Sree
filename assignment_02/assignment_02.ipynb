{
  "nbformat": 4,
  "nbformat_minor": 0,
  "metadata": {
    "colab": {
      "name": "assignment_02.ipynb",
      "provenance": [],
      "collapsed_sections": [],
      "authorship_tag": "ABX9TyNIRK+hL4Ks0fn+GKR3CxZI",
      "include_colab_link": true
    },
    "kernelspec": {
      "name": "python3",
      "display_name": "Python 3"
    },
    "language_info": {
      "name": "python"
    }
  },
  "cells": [
    {
      "cell_type": "markdown",
      "metadata": {
        "id": "view-in-github",
        "colab_type": "text"
      },
      "source": [
        "<a href=\"https://colab.research.google.com/github/Sreecr7/data690_Sree/blob/main/assignment_02/assignment_02.ipynb\" target=\"_parent\"><img src=\"https://colab.research.google.com/assets/colab-badge.svg\" alt=\"Open In Colab\"/></a>"
      ]
    },
    {
      "cell_type": "markdown",
      "metadata": {
        "id": "hsEJURgFdjTu"
      },
      "source": [
        "# Assignment_02\n",
        "# Sree Purani Gunasekaran\n"
      ]
    },
    {
      "cell_type": "markdown",
      "metadata": {
        "id": "lc81w0k9vMcC"
      },
      "source": [
        "# 1. Prompts a user to enter 10 integers.\n"
      ]
    },
    {
      "cell_type": "code",
      "metadata": {
        "colab": {
          "base_uri": "https://localhost:8080/"
        },
        "id": "6o1lFPB1vJup",
        "outputId": "6e33f9a5-83dc-4c1e-d6ed-1a696db1cdd3"
      },
      "source": [
        "the_list = []\n",
        "\n",
        "for i in range(0,10): #Don't allow the user to enter more than 10 or less than 10 integers.\n",
        "    while True: \n",
        "        x = input(\"Please enter an integer:\") \n",
        "        try:\n",
        "            y = int(x)\n",
        "            the_list.append(y) # The previously entered valid inputs should be kept and not lost.\n",
        "            print(\"got integer:\", y)\n",
        "            break\n",
        "        except:\n",
        "            print(\" only integers are allowed . Please retry.\")# user makes a mistake and let the user retry \n",
        "\n",
        "\n",
        "print(\"You have entered:\", the_list) #Display the 10 integers back to the user at the end."
      ],
      "execution_count": 3,
      "outputs": [
        {
          "output_type": "stream",
          "name": "stdout",
          "text": [
            "Please enter an integer:sree\n",
            " only integers are allowed . Please retry.\n",
            "Please enter an integer:hi \n",
            " only integers are allowed . Please retry.\n",
            "Please enter an integer:2\n",
            "got integer: 2\n",
            "Please enter an integer:3\n",
            "got integer: 3\n",
            "Please enter an integer:4\n",
            "got integer: 4\n",
            "Please enter an integer:1\n",
            "got integer: 1\n",
            "Please enter an integer:5\n",
            "got integer: 5\n",
            "Please enter an integer:6\n",
            "got integer: 6\n",
            "Please enter an integer:7\n",
            "got integer: 7\n",
            "Please enter an integer:8\n",
            "got integer: 8\n",
            "Please enter an integer:9\n",
            "got integer: 9\n",
            "Please enter an integer:10\n",
            "got integer: 10\n",
            "You have entered: [2, 3, 4, 1, 5, 6, 7, 8, 9, 10]\n"
          ]
        }
      ]
    },
    {
      "cell_type": "markdown",
      "metadata": {
        "id": "HyDPHpRTejOX"
      },
      "source": [
        "# 2. Maximum value of the list"
      ]
    },
    {
      "cell_type": "code",
      "metadata": {
        "colab": {
          "base_uri": "https://localhost:8080/"
        },
        "id": "3cQvuAFdoWgN",
        "outputId": "8d441a69-37c7-4370-9788-10c554fda060"
      },
      "source": [
        "max = the_list[0]\n",
        "for i in the_list:\n",
        "  if i > max:\n",
        "    max = i\n",
        "print(\"the maximum element of the list\",max)"
      ],
      "execution_count": 18,
      "outputs": [
        {
          "output_type": "stream",
          "name": "stdout",
          "text": [
            "the maximum element of the list 10\n"
          ]
        }
      ]
    },
    {
      "cell_type": "markdown",
      "metadata": {
        "id": "9Jv5NFmde50D"
      },
      "source": [
        "# 3. Minimum value of the list"
      ]
    },
    {
      "cell_type": "code",
      "metadata": {
        "colab": {
          "base_uri": "https://localhost:8080/"
        },
        "id": "ceejiM_Lp-Ic",
        "outputId": "c5460bc4-dc1d-4627-e11e-f8bb6d80044d"
      },
      "source": [
        "min  = the_list[0]\n",
        "for x in the_list:\n",
        "  if x < min:\n",
        "    min = x\n",
        "print(\"the minimum element of the list\",min)"
      ],
      "execution_count": 19,
      "outputs": [
        {
          "output_type": "stream",
          "name": "stdout",
          "text": [
            "the minimum element of the list 1\n"
          ]
        }
      ]
    },
    {
      "cell_type": "markdown",
      "metadata": {
        "id": "EhZ0y9safm3t"
      },
      "source": [
        "# 4. Range"
      ]
    },
    {
      "cell_type": "code",
      "metadata": {
        "colab": {
          "base_uri": "https://localhost:8080/"
        },
        "id": "4IOvVrZGqeCB",
        "outputId": "20faf0fb-90e5-449b-c13c-a9eb0bfdb0f5"
      },
      "source": [
        "Range= max-min #maximum value - minimum value of the list \n",
        "print(\"Range is:\", Range)"
      ],
      "execution_count": 20,
      "outputs": [
        {
          "output_type": "stream",
          "name": "stdout",
          "text": [
            "Range is: 9\n"
          ]
        }
      ]
    },
    {
      "cell_type": "markdown",
      "metadata": {
        "id": "s3mNUXHHftos"
      },
      "source": [
        "# 5. Mean"
      ]
    },
    {
      "cell_type": "code",
      "metadata": {
        "colab": {
          "base_uri": "https://localhost:8080/"
        },
        "id": "PHTe3bHnqH-q",
        "outputId": "c0142818-3f37-4ee1-f227-550a5e3d3f4b"
      },
      "source": [
        "total = 0\n",
        "\n",
        "for i in the_list:\n",
        "    total += i    # total = total + i\n",
        "\n",
        "print(\"total = \", total)"
      ],
      "execution_count": 21,
      "outputs": [
        {
          "output_type": "stream",
          "name": "stdout",
          "text": [
            "total =  55\n"
          ]
        }
      ]
    },
    {
      "cell_type": "markdown",
      "metadata": {
        "id": "fFKXYiNEiiL2"
      },
      "source": [
        "# Mean = {Sum of Observation} ÷ {Total numbers of Observations}."
      ]
    },
    {
      "cell_type": "code",
      "metadata": {
        "colab": {
          "base_uri": "https://localhost:8080/"
        },
        "id": "hOYjpmPMqKOt",
        "outputId": "dbf3a698-e7a0-4734-c889-7af3f0d3a98c"
      },
      "source": [
        "mean = total / len(the_list) # sum of the elemments divided by the  total no of elements in the list \n",
        "print(\"The mean is\",mean)"
      ],
      "execution_count": 22,
      "outputs": [
        {
          "output_type": "stream",
          "name": "stdout",
          "text": [
            "The mean is 5.5\n"
          ]
        }
      ]
    },
    {
      "cell_type": "markdown",
      "metadata": {
        "id": "EL113FBxgeYB"
      },
      "source": [
        "#6. variance"
      ]
    },
    {
      "cell_type": "code",
      "metadata": {
        "colab": {
          "base_uri": "https://localhost:8080/"
        },
        "id": "_6dBs-LFqKcf",
        "outputId": "5e82a95f-643d-4801-c634-ecc6853767ff"
      },
      "source": [
        "\n",
        "deviations = [(x - mean) ** 2 for x in the_list] # x is Individual values or observations \n",
        "n=len(the_list)\n",
        "#the sum of the square deviation from the mean of all the observations\n",
        "variance = sum(deviations) / n\n",
        "print(\"The variance is\",variance)"
      ],
      "execution_count": 23,
      "outputs": [
        {
          "output_type": "stream",
          "name": "stdout",
          "text": [
            "The variance is 8.25\n"
          ]
        }
      ]
    },
    {
      "cell_type": "markdown",
      "metadata": {
        "id": "6ARYxd_DgQjD"
      },
      "source": [
        "#7. Standard Deviation"
      ]
    },
    {
      "cell_type": "code",
      "metadata": {
        "colab": {
          "base_uri": "https://localhost:8080/"
        },
        "id": "YsDhE-xx1DcZ",
        "outputId": "ed6fcd79-2525-4e37-994f-bff5259114c8"
      },
      "source": [
        "SD= variance ** 0.5 # The square root of the variance is the standard deviation.\n",
        "print(\"Standard Deviation is:\",SD)"
      ],
      "execution_count": 24,
      "outputs": [
        {
          "output_type": "stream",
          "name": "stdout",
          "text": [
            "Standard Deviation is: 2.8722813232690143\n"
          ]
        }
      ]
    }
  ]
}