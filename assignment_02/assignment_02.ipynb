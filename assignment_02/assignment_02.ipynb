{
  "nbformat": 4,
  "nbformat_minor": 0,
  "metadata": {
    "colab": {
      "name": "assignment_02.ipynb",
      "provenance": [],
      "collapsed_sections": [],
      "authorship_tag": "ABX9TyNHmZDkUqszPnlIvg4OsnFM",
      "include_colab_link": true
    },
    "kernelspec": {
      "name": "python3",
      "display_name": "Python 3"
    },
    "language_info": {
      "name": "python"
    }
  },
  "cells": [
    {
      "cell_type": "markdown",
      "metadata": {
        "id": "view-in-github",
        "colab_type": "text"
      },
      "source": [
        "<a href=\"https://colab.research.google.com/github/Sreecr7/data690_Sree/blob/main/assignment_02/assignment_02.ipynb\" target=\"_parent\"><img src=\"https://colab.research.google.com/assets/colab-badge.svg\" alt=\"Open In Colab\"/></a>"
      ]
    },
    {
      "cell_type": "markdown",
      "metadata": {
        "id": "hsEJURgFdjTu"
      },
      "source": [
        "# Assignment_02\n",
        "# Sree Purani Gunasekaran\n"
      ]
    },
    {
      "cell_type": "markdown",
      "metadata": {
        "id": "lc81w0k9vMcC"
      },
      "source": [
        "# 1. Prompts a user to enter 10 integers.\n"
      ]
    },
    {
      "cell_type": "code",
      "metadata": {
        "colab": {
          "base_uri": "https://localhost:8080/"
        },
        "id": "6o1lFPB1vJup",
        "outputId": "9c8e628d-84f6-4a54-c5bb-5167e36f41b6"
      },
      "source": [
        "the_list = []\n",
        "\n",
        "for i in range(0,10): #Don't allow the user to enter more than 10 or less than 10 integers.\n",
        "    while True: \n",
        "        x = input(\"Please enter an integer:\") \n",
        "        try:\n",
        "            y = int(x)\n",
        "            the_list.append(y) # The previously entered valid inputs should be kept and not lost.\n",
        "            print(\"got integer:\", y)\n",
        "            break\n",
        "        except:\n",
        "            print(\" only integers are allowed . Please retry.\")# user makes a mistake and let the user retry \n",
        "\n",
        "\n",
        "print(\"You have entered:\", the_list) #Display the 10 integers back to the user at the end."
      ],
      "execution_count": 33,
      "outputs": [
        {
          "output_type": "stream",
          "name": "stdout",
          "text": [
            "Please enter an integer:sree\n",
            " only integers are allowed . Please retry.\n",
            "Please enter an integer:sai\n",
            " only integers are allowed . Please retry.\n",
            "Please enter an integer:2\n",
            "got integer: 2\n",
            "Please enter an integer:3\n",
            "got integer: 3\n",
            "Please enter an integer:5\n",
            "got integer: 5\n",
            "Please enter an integer:4\n",
            "got integer: 4\n",
            "Please enter an integer:6\n",
            "got integer: 6\n",
            "Please enter an integer:8\n",
            "got integer: 8\n",
            "Please enter an integer:7\n",
            "got integer: 7\n",
            "Please enter an integer:9\n",
            "got integer: 9\n",
            "Please enter an integer:1\n",
            "got integer: 1\n",
            "Please enter an integer:10\n",
            "got integer: 10\n",
            "You have entered: [2, 3, 5, 4, 6, 8, 7, 9, 1, 10]\n"
          ]
        }
      ]
    },
    {
      "cell_type": "markdown",
      "metadata": {
        "id": "HyDPHpRTejOX"
      },
      "source": [
        "# 2. Maximum value of the list"
      ]
    },
    {
      "cell_type": "code",
      "metadata": {
        "colab": {
          "base_uri": "https://localhost:8080/"
        },
        "id": "3cQvuAFdoWgN",
        "outputId": "ebc8dff1-1aeb-4e82-d44b-9d1b6fa93400"
      },
      "source": [
        "max = the_list[0]\n",
        "for y in the_list:\n",
        "  if y > max:\n",
        "    max = y\n",
        "print(\"the maximum element of the list\",max)"
      ],
      "execution_count": 34,
      "outputs": [
        {
          "output_type": "stream",
          "name": "stdout",
          "text": [
            "the maximum element of the list 10\n"
          ]
        }
      ]
    },
    {
      "cell_type": "markdown",
      "metadata": {
        "id": "9Jv5NFmde50D"
      },
      "source": [
        "# 3. Minimum value of the list"
      ]
    },
    {
      "cell_type": "code",
      "metadata": {
        "colab": {
          "base_uri": "https://localhost:8080/"
        },
        "id": "ceejiM_Lp-Ic",
        "outputId": "654c4cd5-0d2b-4a3f-c966-ae35e5f4f115"
      },
      "source": [
        "min  = the_list[0]\n",
        "for y in the_list:\n",
        "  if y < min:\n",
        "    min = y\n",
        "print(\"the minimum element of the list\",min)"
      ],
      "execution_count": 35,
      "outputs": [
        {
          "output_type": "stream",
          "name": "stdout",
          "text": [
            "the minimum element of the list 1\n"
          ]
        }
      ]
    },
    {
      "cell_type": "markdown",
      "metadata": {
        "id": "EhZ0y9safm3t"
      },
      "source": [
        "# 4. Range"
      ]
    },
    {
      "cell_type": "code",
      "metadata": {
        "colab": {
          "base_uri": "https://localhost:8080/"
        },
        "id": "4IOvVrZGqeCB",
        "outputId": "f75fd9c2-76f1-42da-91d8-1f0b5e7f8b49"
      },
      "source": [
        "Range= max-min #maximum value - minimum value of the list \n",
        "print(\"Range is:\", Range)"
      ],
      "execution_count": 36,
      "outputs": [
        {
          "output_type": "stream",
          "name": "stdout",
          "text": [
            "Range is: 9\n"
          ]
        }
      ]
    },
    {
      "cell_type": "markdown",
      "metadata": {
        "id": "s3mNUXHHftos"
      },
      "source": [
        "# 5. Mean"
      ]
    },
    {
      "cell_type": "code",
      "metadata": {
        "colab": {
          "base_uri": "https://localhost:8080/"
        },
        "id": "PHTe3bHnqH-q",
        "outputId": "272c9735-2eb2-4677-d687-5fb86a613950"
      },
      "source": [
        "total = 0\n",
        "\n",
        "for i in the_list:\n",
        "    total += i    # total = total + i\n",
        "\n",
        "print(\"total = \", total)"
      ],
      "execution_count": 37,
      "outputs": [
        {
          "output_type": "stream",
          "name": "stdout",
          "text": [
            "total =  55\n"
          ]
        }
      ]
    },
    {
      "cell_type": "markdown",
      "metadata": {
        "id": "fFKXYiNEiiL2"
      },
      "source": [
        "# Mean = {Sum of Observation} ÷ {Total numbers of Observations}."
      ]
    },
    {
      "cell_type": "code",
      "metadata": {
        "colab": {
          "base_uri": "https://localhost:8080/"
        },
        "id": "hOYjpmPMqKOt",
        "outputId": "193d6b43-ba19-43da-c95c-79e08b5db095"
      },
      "source": [
        "mean = total / len(the_list) # sum of the elemments divided by the  total no of elements in the list \n",
        "print(\"The mean is\",mean)"
      ],
      "execution_count": 38,
      "outputs": [
        {
          "output_type": "stream",
          "name": "stdout",
          "text": [
            "The mean is 5.5\n"
          ]
        }
      ]
    },
    {
      "cell_type": "markdown",
      "metadata": {
        "id": "EL113FBxgeYB"
      },
      "source": [
        "#6. variance"
      ]
    },
    {
      "cell_type": "code",
      "metadata": {
        "colab": {
          "base_uri": "https://localhost:8080/"
        },
        "id": "_6dBs-LFqKcf",
        "outputId": "74a39693-2650-4c8d-b7c4-8188b5861f4a"
      },
      "source": [
        "\n",
        "deviations = [(x - mean) ** 2 for x in the_list] # x is Individual values or observations \n",
        "n=len(the_list)\n",
        "#the sum of the square deviation from the mean of all the observations\n",
        "variance = sum(deviations) / n\n",
        "print(\"The variance is\",variance)"
      ],
      "execution_count": 39,
      "outputs": [
        {
          "output_type": "stream",
          "name": "stdout",
          "text": [
            "The variance is 8.25\n"
          ]
        }
      ]
    },
    {
      "cell_type": "markdown",
      "metadata": {
        "id": "6ARYxd_DgQjD"
      },
      "source": [
        "#7. Standard Deviation"
      ]
    },
    {
      "cell_type": "code",
      "metadata": {
        "colab": {
          "base_uri": "https://localhost:8080/"
        },
        "id": "YsDhE-xx1DcZ",
        "outputId": "6700d798-d2e1-4172-f53b-bb6aa6a5ed3d"
      },
      "source": [
        "SD= variance ** 0.5 # The square root of the variance is the standard deviation.\n",
        "print(\"Standard Deviation is:\",SD)"
      ],
      "execution_count": 40,
      "outputs": [
        {
          "output_type": "stream",
          "name": "stdout",
          "text": [
            "Standard Deviation is: 2.8722813232690143\n"
          ]
        }
      ]
    }
  ]
}